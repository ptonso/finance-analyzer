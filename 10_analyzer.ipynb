{
 "cells": [
  {
   "cell_type": "markdown",
   "metadata": {},
   "source": [
    "# Data visualization and analyze\n",
    "\n",
    "here you can visualize and build dashboards from the data you already downloaded and cleaned"
   ]
  },
  {
   "cell_type": "code",
   "execution_count": 3,
   "metadata": {},
   "outputs": [],
   "source": [
    "# load data\n",
    "from src.frame_csv import frame_dir\n",
    "\n",
    "reconciled_dir = \"data/03_reconciled\"\n",
    "\n",
    "reconciled_dir = \"data/02_categorized\"\n",
    "\n",
    "reconciled_df = frame_dir(reconciled_dir)"
   ]
  },
  {
   "cell_type": "code",
   "execution_count": 4,
   "metadata": {},
   "outputs": [
    {
     "data": {
      "text/html": [
       "<div>\n",
       "<style scoped>\n",
       "    .dataframe tbody tr th:only-of-type {\n",
       "        vertical-align: middle;\n",
       "    }\n",
       "\n",
       "    .dataframe tbody tr th {\n",
       "        vertical-align: top;\n",
       "    }\n",
       "\n",
       "    .dataframe thead th {\n",
       "        text-align: right;\n",
       "    }\n",
       "</style>\n",
       "<table border=\"1\" class=\"dataframe\">\n",
       "  <thead>\n",
       "    <tr style=\"text-align: right;\">\n",
       "      <th></th>\n",
       "      <th>date</th>\n",
       "      <th>bank</th>\n",
       "      <th>income</th>\n",
       "      <th>outcome</th>\n",
       "      <th>balance</th>\n",
       "      <th>category</th>\n",
       "      <th>description</th>\n",
       "      <th>original_id</th>\n",
       "      <th>action</th>\n",
       "      <th>participant</th>\n",
       "    </tr>\n",
       "  </thead>\n",
       "  <tbody>\n",
       "    <tr>\n",
       "      <th>0</th>\n",
       "      <td>2023-11-01</td>\n",
       "      <td>nubank</td>\n",
       "      <td>0.0</td>\n",
       "      <td>59.90</td>\n",
       "      <td>0.0</td>\n",
       "      <td>eating-out</td>\n",
       "      <td>transferência enviada pelo pix - ifood.com age...</td>\n",
       "      <td>6542f814-40f1-43cb-b857-a302ee3de480</td>\n",
       "      <td>NaN</td>\n",
       "      <td>NaN</td>\n",
       "    </tr>\n",
       "    <tr>\n",
       "      <th>1</th>\n",
       "      <td>2023-11-02</td>\n",
       "      <td>nubank</td>\n",
       "      <td>0.0</td>\n",
       "      <td>31.47</td>\n",
       "      <td>0.0</td>\n",
       "      <td>eating-out</td>\n",
       "      <td>transferência enviada pelo pix - sabrina apare...</td>\n",
       "      <td>6543d411-ddef-4a08-88f9-d1dc59557589</td>\n",
       "      <td>NaN</td>\n",
       "      <td>NaN</td>\n",
       "    </tr>\n",
       "    <tr>\n",
       "      <th>2</th>\n",
       "      <td>2023-11-02</td>\n",
       "      <td>nubank</td>\n",
       "      <td>0.0</td>\n",
       "      <td>20.00</td>\n",
       "      <td>0.0</td>\n",
       "      <td>other</td>\n",
       "      <td>transferência enviada pelo pix - ketine pentea...</td>\n",
       "      <td>654400c9-63b4-4638-a271-ff6748311e76</td>\n",
       "      <td>NaN</td>\n",
       "      <td>NaN</td>\n",
       "    </tr>\n",
       "    <tr>\n",
       "      <th>3</th>\n",
       "      <td>2023-11-02</td>\n",
       "      <td>nubank</td>\n",
       "      <td>0.0</td>\n",
       "      <td>40.00</td>\n",
       "      <td>0.0</td>\n",
       "      <td>other</td>\n",
       "      <td>transferência enviada pelo pix - nildo cardoso...</td>\n",
       "      <td>65442637-a112-4832-a20b-8080cd248991</td>\n",
       "      <td>NaN</td>\n",
       "      <td>NaN</td>\n",
       "    </tr>\n",
       "    <tr>\n",
       "      <th>4</th>\n",
       "      <td>2023-11-03</td>\n",
       "      <td>nubank</td>\n",
       "      <td>0.0</td>\n",
       "      <td>25.00</td>\n",
       "      <td>0.0</td>\n",
       "      <td>other</td>\n",
       "      <td>transferência enviada pelo pix - 13.015.283 ta...</td>\n",
       "      <td>65447066-591a-4f4f-95f9-f25782081aee</td>\n",
       "      <td>NaN</td>\n",
       "      <td>NaN</td>\n",
       "    </tr>\n",
       "  </tbody>\n",
       "</table>\n",
       "</div>"
      ],
      "text/plain": [
       "        date    bank  income  outcome  balance    category  \\\n",
       "0 2023-11-01  nubank     0.0    59.90      0.0  eating-out   \n",
       "1 2023-11-02  nubank     0.0    31.47      0.0  eating-out   \n",
       "2 2023-11-02  nubank     0.0    20.00      0.0       other   \n",
       "3 2023-11-02  nubank     0.0    40.00      0.0       other   \n",
       "4 2023-11-03  nubank     0.0    25.00      0.0       other   \n",
       "\n",
       "                                         description  \\\n",
       "0  transferência enviada pelo pix - ifood.com age...   \n",
       "1  transferência enviada pelo pix - sabrina apare...   \n",
       "2  transferência enviada pelo pix - ketine pentea...   \n",
       "3  transferência enviada pelo pix - nildo cardoso...   \n",
       "4  transferência enviada pelo pix - 13.015.283 ta...   \n",
       "\n",
       "                            original_id  action  participant  \n",
       "0  6542f814-40f1-43cb-b857-a302ee3de480     NaN          NaN  \n",
       "1  6543d411-ddef-4a08-88f9-d1dc59557589     NaN          NaN  \n",
       "2  654400c9-63b4-4638-a271-ff6748311e76     NaN          NaN  \n",
       "3  65442637-a112-4832-a20b-8080cd248991     NaN          NaN  \n",
       "4  65447066-591a-4f4f-95f9-f25782081aee     NaN          NaN  "
      ]
     },
     "execution_count": 4,
     "metadata": {},
     "output_type": "execute_result"
    }
   ],
   "source": [
    "from src.auto_category import load_categories\n",
    "from src.dashboard import *\n",
    "\n",
    "# load relevant data\n",
    "df = reconciled_df\n",
    "categories = load_categories()\n",
    "outcome_categories = categories\n",
    "\n",
    "df.head()"
   ]
  },
  {
   "cell_type": "code",
   "execution_count": 5,
   "metadata": {},
   "outputs": [
    {
     "data": {
      "text/html": [
       "\n",
       "        <iframe\n",
       "            width=\"100%\"\n",
       "            height=\"650\"\n",
       "            src=\"http://127.0.0.1:8061/\"\n",
       "            frameborder=\"0\"\n",
       "            allowfullscreen\n",
       "            \n",
       "        ></iframe>\n",
       "        "
      ],
      "text/plain": [
       "<IPython.lib.display.IFrame at 0x7f3efcb1a8c0>"
      ]
     },
     "metadata": {},
     "output_type": "display_data"
    }
   ],
   "source": [
    "\n",
    "\n",
    "category_dash = CategoryDashboard(df, outcome_categories)\n",
    "category_dash.run()"
   ]
  },
  {
   "cell_type": "code",
   "execution_count": null,
   "metadata": {},
   "outputs": [],
   "source": [
    "participant_dash = ParticipantDashboard(df, outcome_categories)\n",
    "participant_dash.run()"
   ]
  },
  {
   "cell_type": "code",
   "execution_count": null,
   "metadata": {},
   "outputs": [],
   "source": [
    "\n",
    "cashflow_dash = CashFlowDashboard(df)\n",
    "cashflow_dash.run()"
   ]
  }
 ],
 "metadata": {
  "kernelspec": {
   "display_name": "venv",
   "language": "python",
   "name": "python3"
  },
  "language_info": {
   "codemirror_mode": {
    "name": "ipython",
    "version": 3
   },
   "file_extension": ".py",
   "mimetype": "text/x-python",
   "name": "python",
   "nbconvert_exporter": "python",
   "pygments_lexer": "ipython3",
   "version": "3.10.12"
  }
 },
 "nbformat": 4,
 "nbformat_minor": 2
}
