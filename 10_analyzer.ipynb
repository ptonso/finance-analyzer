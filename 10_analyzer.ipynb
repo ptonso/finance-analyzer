{
 "cells": [
  {
   "cell_type": "markdown",
   "metadata": {},
   "source": [
    "# Data visualization and analyze\n",
    "\n",
    "here you can visualize and build dashboards from the data you already downloaded and cleaned"
   ]
  },
  {
   "cell_type": "code",
   "execution_count": 1,
   "metadata": {},
   "outputs": [],
   "source": [
    "# load your data\n",
    "from src.frame_csv import frame_dir\n",
    "\n",
    "reconciled_dir = \"data/03_reconciled\"\n",
    "\n",
    "reconciled_df = frame_dir(reconciled_dir)"
   ]
  },
  {
   "cell_type": "code",
   "execution_count": 2,
   "metadata": {},
   "outputs": [],
   "source": [
    "# build toy dataset\n",
    "from src.toy_dataset import generate_transactions\n",
    "from datetime import datetime\n",
    "\n",
    "start_date = datetime(2023, 1, 1)\n",
    "df = generate_transactions(start_date)\n"
   ]
  },
  {
   "cell_type": "code",
   "execution_count": 3,
   "metadata": {},
   "outputs": [
    {
     "data": {
      "text/html": [
       "<div>\n",
       "<style scoped>\n",
       "    .dataframe tbody tr th:only-of-type {\n",
       "        vertical-align: middle;\n",
       "    }\n",
       "\n",
       "    .dataframe tbody tr th {\n",
       "        vertical-align: top;\n",
       "    }\n",
       "\n",
       "    .dataframe thead th {\n",
       "        text-align: right;\n",
       "    }\n",
       "</style>\n",
       "<table border=\"1\" class=\"dataframe\">\n",
       "  <thead>\n",
       "    <tr style=\"text-align: right;\">\n",
       "      <th></th>\n",
       "      <th>date</th>\n",
       "      <th>bank</th>\n",
       "      <th>income</th>\n",
       "      <th>outcome</th>\n",
       "      <th>balance</th>\n",
       "      <th>category</th>\n",
       "      <th>description</th>\n",
       "      <th>original_id</th>\n",
       "    </tr>\n",
       "  </thead>\n",
       "  <tbody>\n",
       "    <tr>\n",
       "      <th>0</th>\n",
       "      <td>2023-01-27</td>\n",
       "      <td>nubank</td>\n",
       "      <td>2701.44</td>\n",
       "      <td>0.00</td>\n",
       "      <td>2701.44</td>\n",
       "      <td>monthly-income</td>\n",
       "      <td>Sample description for monthly-income</td>\n",
       "      <td>c6843bba1ae5ea6331d9d45c0fd5843806ef</td>\n",
       "    </tr>\n",
       "    <tr>\n",
       "      <th>1</th>\n",
       "      <td>2023-01-26</td>\n",
       "      <td>nubank</td>\n",
       "      <td>0.00</td>\n",
       "      <td>83.32</td>\n",
       "      <td>2618.12</td>\n",
       "      <td>personal-enrichment</td>\n",
       "      <td>Sample description for personal-enrichment</td>\n",
       "      <td>145f61b1762cee3fda59d679d78313127a96</td>\n",
       "    </tr>\n",
       "    <tr>\n",
       "      <th>2</th>\n",
       "      <td>2023-01-01</td>\n",
       "      <td>nubank</td>\n",
       "      <td>0.00</td>\n",
       "      <td>219.98</td>\n",
       "      <td>2398.14</td>\n",
       "      <td>snack</td>\n",
       "      <td>Sample description for snack</td>\n",
       "      <td>8c5ab53ddfb8f19a4c432f74eb10a5d4da1d</td>\n",
       "    </tr>\n",
       "    <tr>\n",
       "      <th>3</th>\n",
       "      <td>2023-01-11</td>\n",
       "      <td>nubank</td>\n",
       "      <td>0.00</td>\n",
       "      <td>311.05</td>\n",
       "      <td>2087.09</td>\n",
       "      <td>personal-enrichment</td>\n",
       "      <td>Sample description for personal-enrichment</td>\n",
       "      <td>b3b6f9f27613c7a2d0c07a017737c49b60ff</td>\n",
       "    </tr>\n",
       "    <tr>\n",
       "      <th>4</th>\n",
       "      <td>2023-01-31</td>\n",
       "      <td>nubank</td>\n",
       "      <td>0.00</td>\n",
       "      <td>226.71</td>\n",
       "      <td>1860.38</td>\n",
       "      <td>eating-out</td>\n",
       "      <td>Sample description for eating-out</td>\n",
       "      <td>a31b9aa0d2032c4e7023fe6aacf0bc717a86</td>\n",
       "    </tr>\n",
       "  </tbody>\n",
       "</table>\n",
       "</div>"
      ],
      "text/plain": [
       "        date    bank   income  outcome  balance             category  \\\n",
       "0 2023-01-27  nubank  2701.44     0.00  2701.44       monthly-income   \n",
       "1 2023-01-26  nubank     0.00    83.32  2618.12  personal-enrichment   \n",
       "2 2023-01-01  nubank     0.00   219.98  2398.14                snack   \n",
       "3 2023-01-11  nubank     0.00   311.05  2087.09  personal-enrichment   \n",
       "4 2023-01-31  nubank     0.00   226.71  1860.38           eating-out   \n",
       "\n",
       "                                  description  \\\n",
       "0       Sample description for monthly-income   \n",
       "1  Sample description for personal-enrichment   \n",
       "2                Sample description for snack   \n",
       "3  Sample description for personal-enrichment   \n",
       "4           Sample description for eating-out   \n",
       "\n",
       "                            original_id  \n",
       "0  c6843bba1ae5ea6331d9d45c0fd5843806ef  \n",
       "1  145f61b1762cee3fda59d679d78313127a96  \n",
       "2  8c5ab53ddfb8f19a4c432f74eb10a5d4da1d  \n",
       "3  b3b6f9f27613c7a2d0c07a017737c49b60ff  \n",
       "4  a31b9aa0d2032c4e7023fe6aacf0bc717a86  "
      ]
     },
     "execution_count": 3,
     "metadata": {},
     "output_type": "execute_result"
    }
   ],
   "source": [
    "from src.auto_category import load_categories\n",
    "from src.dashboard import *\n",
    "\n",
    "# load relevant data\n",
    "# df = reconciled_df\n",
    "categories = load_categories()\n",
    "\n",
    "outcome_categories = categories\n",
    "\n",
    "df.head()"
   ]
  },
  {
   "cell_type": "code",
   "execution_count": 4,
   "metadata": {},
   "outputs": [
    {
     "data": {
      "text/html": [
       "\n",
       "        <iframe\n",
       "            width=\"100%\"\n",
       "            height=\"650\"\n",
       "            src=\"http://127.0.0.1:8061/\"\n",
       "            frameborder=\"0\"\n",
       "            allowfullscreen\n",
       "            \n",
       "        ></iframe>\n",
       "        "
      ],
      "text/plain": [
       "<IPython.lib.display.IFrame at 0x7ff33e12ab90>"
      ]
     },
     "metadata": {},
     "output_type": "display_data"
    }
   ],
   "source": [
    "\n",
    "\n",
    "category_dash = CategoryDashboard(df, outcome_categories)\n",
    "category_dash.run()"
   ]
  },
  {
   "cell_type": "code",
   "execution_count": 5,
   "metadata": {},
   "outputs": [
    {
     "data": {
      "text/html": [
       "\n",
       "        <iframe\n",
       "            width=\"100%\"\n",
       "            height=\"650\"\n",
       "            src=\"http://127.0.0.1:8060/\"\n",
       "            frameborder=\"0\"\n",
       "            allowfullscreen\n",
       "            \n",
       "        ></iframe>\n",
       "        "
      ],
      "text/plain": [
       "<IPython.lib.display.IFrame at 0x7ff33e129150>"
      ]
     },
     "metadata": {},
     "output_type": "display_data"
    }
   ],
   "source": [
    "\n",
    "cashflow_dash = CashFlowDashboard(df)\n",
    "cashflow_dash.run()"
   ]
  },
  {
   "cell_type": "code",
   "execution_count": null,
   "metadata": {},
   "outputs": [],
   "source": []
  }
 ],
 "metadata": {
  "kernelspec": {
   "display_name": "venv",
   "language": "python",
   "name": "python3"
  },
  "language_info": {
   "codemirror_mode": {
    "name": "ipython",
    "version": 3
   },
   "file_extension": ".py",
   "mimetype": "text/x-python",
   "name": "python",
   "nbconvert_exporter": "python",
   "pygments_lexer": "ipython3",
   "version": "3.10.12"
  }
 },
 "nbformat": 4,
 "nbformat_minor": 2
}
