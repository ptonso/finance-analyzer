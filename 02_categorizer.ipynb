{
 "cells": [
  {
   "cell_type": "markdown",
   "metadata": {},
   "source": [
    "## Categorization\n",
    "\n",
    "- input:  `data/01_cleaned`\n",
    "- output: `data/02_categorized`\n",
    "\n",
    "here we will perform automatic and manual categorization."
   ]
  },
  {
   "cell_type": "markdown",
   "metadata": {},
   "source": [
    "## Lookup categorization\n",
    "\n",
    "this process will use `category_lookup.json` to automatic categorize based on word match in `description`.\n",
    "update the `category_lookup.json` manually (but only once)"
   ]
  },
  {
   "cell_type": "code",
   "execution_count": 1,
   "metadata": {},
   "outputs": [
    {
     "name": "stdout",
     "output_type": "stream",
     "text": [
      "dict_keys(['account-transfer', 'monthly-income', 'allowance', 'sales', 'investment-return', 'supplies', 'snack', 'eating-out', 'transport', 'healthcare', 'personal-enrichment', 'clothing', 'fun-money', 'home-maintenance', 'e-commerce', 'housing', 'utilities', 'subscription', 'savings', 'taxes', 'other'])\n",
      "nubank_2023-11.csv: 10 rows categorized as 'other'\n",
      "nubank_2023-10.csv: 10 rows categorized as 'other'\n",
      "nubank_2024-06.csv: 5  rows categorized as 'other'\n",
      "nubank_2024-03.csv: 23 rows categorized as 'other'\n",
      "nubank_2024-01.csv: 5  rows categorized as 'other'\n",
      "nubank_2024-08.csv: 4  rows categorized as 'other'\n",
      "nubank_2024-07.csv: 7  rows categorized as 'other'\n",
      "nubank_2023-07.csv: 7  rows categorized as 'other'\n",
      "nubank_2024-05.csv: 1  rows categorized as 'other'\n",
      "nubank_2023-12.csv: 16 rows categorized as 'other'\n",
      "nubank_2023-08.csv: 3  rows categorized as 'other'\n",
      "nubank_2023-09.csv: 3  rows categorized as 'other'\n",
      "nubank_2024-02.csv: 3  rows categorized as 'other'\n",
      "nubank_2023-06.csv: 0  rows categorized as 'other'\n",
      "nubank_2024-04.csv: 2  rows categorized as 'other'\n"
     ]
    }
   ],
   "source": [
    "from src.auto_category import load_lookup_table, category_from_lookup\n",
    "\n",
    "lookup_table = load_lookup_table()\n",
    "\n",
    "print(lookup_table.keys())\n",
    "\n",
    "input_dir = \"data/01_cleaned\"\n",
    "output_dir = \"data/02_categorized\"\n",
    "\n",
    "category_from_lookup(input_dir, output_dir, lookup_table)\n"
   ]
  },
  {
   "cell_type": "markdown",
   "metadata": {},
   "source": [
    "## Interaction\n",
    "\n",
    "Here you can interact with the data for each month and perform surgical changes."
   ]
  },
  {
   "cell_type": "code",
   "execution_count": null,
   "metadata": {},
   "outputs": [],
   "source": [
    "\n",
    "from src.interaction import Interact\n",
    "\n",
    "# metaconfiguration\n",
    "input_dir = \"data/02_categorized\"\n",
    "output_dir = \"data/02_categorized\"\n",
    "\n",
    "month = \"2023-06\"\n",
    "\n",
    "cleaned_csv = f\"{input_dir}/nubank_{month}.csv\"\n",
    "categorized_csv = f\"{output_dir}/nubank_{month}.csv\"\n",
    "\n",
    "\n",
    "interact = Interact(cleaned_csv, categorized_csv)\n",
    "interact.category_editor()\n"
   ]
  },
  {
   "cell_type": "markdown",
   "metadata": {},
   "source": [
    "## Machine learning\n",
    "\n",
    "after gathering sufficient categorized data, we can use machine learning to  automate this process."
   ]
  },
  {
   "cell_type": "code",
   "execution_count": 1,
   "metadata": {},
   "outputs": [
    {
     "name": "stdout",
     "output_type": "stream",
     "text": [
      "Training completed with an accuracy of: 0.9613\n"
     ]
    },
    {
     "data": {
      "text/plain": [
       "array(['supplies', 'eating-out', 'eating-out', 'supplies', 'eating-out',\n",
       "       'eating-out', 'snack', 'eating-out', 'eating-out', 'eating-out',\n",
       "       'eating-out', 'eating-out', 'housing', 'eating-out', 'transport',\n",
       "       'eating-out', 'eating-out', 'eating-out', 'eating-out',\n",
       "       'eating-out', 'eating-out', 'eating-out', 'eating-out', 'snack',\n",
       "       'supplies', 'eating-out', 'eating-out', 'allowance', 'supplies',\n",
       "       'fun-money', 'home-maintenance', 'allowance', 'eating-out',\n",
       "       'supplies', 'transport', 'eating-out', 'eating-out', 'supplies',\n",
       "       'eating-out', 'fun-money', 'eating-out', 'eating-out', 'fun-money',\n",
       "       'eating-out', 'supplies', 'supplies', 'transport', 'supplies',\n",
       "       'snack', 'eating-out', 'eating-out', 'eating-out', 'snack',\n",
       "       'eating-out', 'eating-out', 'snack', 'eating-out', 'eating-out',\n",
       "       'supplies', 'snack', 'eating-out', 'eating-out', 'snack',\n",
       "       'eating-out', 'supplies', 'snack', 'eating-out', 'eating-out',\n",
       "       'eating-out', 'eating-out', 'snack', 'eating-out', 'supplies',\n",
       "       'eating-out', 'eating-out', 'eating-out', 'eating-out',\n",
       "       'eating-out', 'eating-out', 'home-maintenance', 'eating-out',\n",
       "       'fun-money', 'supplies', 'snack', 'eating-out', 'eating-out',\n",
       "       'snack', 'eating-out', 'eating-out', 'eating-out', 'eating-out',\n",
       "       'housing', 'eating-out', 'eating-out', 'eating-out', 'eating-out',\n",
       "       'housing', 'eating-out', 'supplies'], dtype='<U19')"
      ]
     },
     "execution_count": 1,
     "metadata": {},
     "output_type": "execute_result"
    }
   ],
   "source": [
    "from src.auto_category import CategoryClassifier\n",
    "\n",
    "csv_dir = \"data/02_categorized\"\n",
    "\n",
    "categorizer = CategoryClassifier(csv_dir)\n",
    "categorizer.train()\n",
    "categorizer.predict(inplace=False)\n"
   ]
  },
  {
   "cell_type": "code",
   "execution_count": null,
   "metadata": {},
   "outputs": [],
   "source": []
  }
 ],
 "metadata": {
  "kernelspec": {
   "display_name": "venv",
   "language": "python",
   "name": "python3"
  },
  "language_info": {
   "codemirror_mode": {
    "name": "ipython",
    "version": 3
   },
   "file_extension": ".py",
   "mimetype": "text/x-python",
   "name": "python",
   "nbconvert_exporter": "python",
   "pygments_lexer": "ipython3",
   "version": "3.10.12"
  }
 },
 "nbformat": 4,
 "nbformat_minor": 2
}
