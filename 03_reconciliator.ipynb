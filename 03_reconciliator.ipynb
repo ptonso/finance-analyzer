{
 "cells": [
  {
   "cell_type": "markdown",
   "metadata": {},
   "source": [
    "### Manual reconciliation\n",
    "\n",
    "input:  `data/02_categorized`\n",
    "output: `data/03_reconciled`\n",
    "\n",
    "here we will make sure that the balance is correct with your real bank account"
   ]
  },
  {
   "cell_type": "code",
   "execution_count": 1,
   "metadata": {},
   "outputs": [
    {
     "name": "stdout",
     "output_type": "stream",
     "text": [
      "Processing bank: nubank\n",
      "File not found for nubank in 2023-03: data/02_categorized/nubank_2023-03.csv\n",
      "Bank: nubank, Month: 2024-03, Final Balance: 400.21, Adjustment: -0.00\n"
     ]
    }
   ],
   "source": [
    "# input the final balance of each month\n",
    "\n",
    "from src.reconcile import reconcile_balances\n",
    "\n",
    "balances = {\n",
    "    'nubank': {\n",
    "        'initial': 0.0,\n",
    "        '2023-03': 30.02,\n",
    "        '2024-03': 400.21,\n",
    "        }\n",
    "}\n",
    "\n",
    "input_dir = \"data/02_categorized\"\n",
    "output_dir = \"data/02_categorized\"\n",
    "\n",
    "\n",
    "reconcile_balances(balances, input_dir, output_dir)"
   ]
  },
  {
   "cell_type": "code",
   "execution_count": null,
   "metadata": {},
   "outputs": [],
   "source": []
  }
 ],
 "metadata": {
  "kernelspec": {
   "display_name": "venv",
   "language": "python",
   "name": "python3"
  },
  "language_info": {
   "codemirror_mode": {
    "name": "ipython",
    "version": 3
   },
   "file_extension": ".py",
   "mimetype": "text/x-python",
   "name": "python",
   "nbconvert_exporter": "python",
   "pygments_lexer": "ipython3",
   "version": "3.10.12"
  }
 },
 "nbformat": 4,
 "nbformat_minor": 2
}
